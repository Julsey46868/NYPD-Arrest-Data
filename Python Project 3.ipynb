{
 "cells": [
  {
   "cell_type": "code",
   "execution_count": 48,
   "id": "ee060b05",
   "metadata": {},
   "outputs": [],
   "source": [
    "import pandas as pd\n",
    "import seaborn as sns\n",
    "import matplotlib.pyplot as plt"
   ]
  },
  {
   "cell_type": "code",
   "execution_count": 49,
   "id": "d10c0ddf",
   "metadata": {},
   "outputs": [],
   "source": [
    "df = pd.read_csv(r\"C:\\Users\\JEchevarria\\OneDrive - Healthfirst\\NYPDArrestData.csv\")"
   ]
  },
  {
   "cell_type": "code",
   "execution_count": 50,
   "id": "9f0096f5",
   "metadata": {},
   "outputs": [
    {
     "data": {
      "text/html": [
       "<div>\n",
       "<style scoped>\n",
       "    .dataframe tbody tr th:only-of-type {\n",
       "        vertical-align: middle;\n",
       "    }\n",
       "\n",
       "    .dataframe tbody tr th {\n",
       "        vertical-align: top;\n",
       "    }\n",
       "\n",
       "    .dataframe thead th {\n",
       "        text-align: right;\n",
       "    }\n",
       "</style>\n",
       "<table border=\"1\" class=\"dataframe\">\n",
       "  <thead>\n",
       "    <tr style=\"text-align: right;\">\n",
       "      <th></th>\n",
       "      <th>ARREST_KEY</th>\n",
       "      <th>ARREST_DATE</th>\n",
       "      <th>PD_CD</th>\n",
       "      <th>PD_DESC</th>\n",
       "      <th>KY_CD</th>\n",
       "      <th>OFNS_DESC</th>\n",
       "      <th>LAW_CODE</th>\n",
       "      <th>LAW_CAT_CD</th>\n",
       "      <th>ARREST_BORO</th>\n",
       "      <th>ARREST_PRECINCT</th>\n",
       "      <th>JURISDICTION_CODE</th>\n",
       "      <th>AGE_GROUP</th>\n",
       "      <th>PERP_SEX</th>\n",
       "      <th>PERP_RACE</th>\n",
       "      <th>X_COORD_CD</th>\n",
       "      <th>Y_COORD_CD</th>\n",
       "      <th>Latitude</th>\n",
       "      <th>Longitude</th>\n",
       "      <th>New Georeferenced Column</th>\n",
       "    </tr>\n",
       "  </thead>\n",
       "  <tbody>\n",
       "    <tr>\n",
       "      <th>0</th>\n",
       "      <td>280255493</td>\n",
       "      <td>01/10/2024</td>\n",
       "      <td>397.0</td>\n",
       "      <td>ROBBERY,OPEN AREA UNCLASSIFIED</td>\n",
       "      <td>105.0</td>\n",
       "      <td>ROBBERY</td>\n",
       "      <td>PL 1601001</td>\n",
       "      <td>F</td>\n",
       "      <td>M</td>\n",
       "      <td>26</td>\n",
       "      <td>0</td>\n",
       "      <td>&lt;18</td>\n",
       "      <td>M</td>\n",
       "      <td>BLACK</td>\n",
       "      <td>996342</td>\n",
       "      <td>236149</td>\n",
       "      <td>40.814845</td>\n",
       "      <td>-73.956312</td>\n",
       "      <td>POINT (-73.956312 40.814845)</td>\n",
       "    </tr>\n",
       "    <tr>\n",
       "      <th>1</th>\n",
       "      <td>279805419</td>\n",
       "      <td>01/02/2024</td>\n",
       "      <td>157.0</td>\n",
       "      <td>RAPE 1</td>\n",
       "      <td>104.0</td>\n",
       "      <td>RAPE</td>\n",
       "      <td>PL 1303501</td>\n",
       "      <td>F</td>\n",
       "      <td>K</td>\n",
       "      <td>77</td>\n",
       "      <td>0</td>\n",
       "      <td>25-44</td>\n",
       "      <td>M</td>\n",
       "      <td>WHITE HISPANIC</td>\n",
       "      <td>1003509</td>\n",
       "      <td>185018</td>\n",
       "      <td>40.674496</td>\n",
       "      <td>-73.930571</td>\n",
       "      <td>POINT (-73.9305713255961 40.6744956865259)</td>\n",
       "    </tr>\n",
       "    <tr>\n",
       "      <th>2</th>\n",
       "      <td>279895750</td>\n",
       "      <td>01/03/2024</td>\n",
       "      <td>101.0</td>\n",
       "      <td>ASSAULT 3</td>\n",
       "      <td>344.0</td>\n",
       "      <td>ASSAULT 3 &amp; RELATED OFFENSES</td>\n",
       "      <td>PL 1200001</td>\n",
       "      <td>M</td>\n",
       "      <td>Q</td>\n",
       "      <td>106</td>\n",
       "      <td>0</td>\n",
       "      <td>65+</td>\n",
       "      <td>F</td>\n",
       "      <td>WHITE</td>\n",
       "      <td>1026836</td>\n",
       "      <td>180689</td>\n",
       "      <td>40.662526</td>\n",
       "      <td>-73.846499</td>\n",
       "      <td>POINT (-73.846499 40.662526)</td>\n",
       "    </tr>\n",
       "    <tr>\n",
       "      <th>3</th>\n",
       "      <td>280809090</td>\n",
       "      <td>01/19/2024</td>\n",
       "      <td>511.0</td>\n",
       "      <td>CONTROLLED SUBSTANCE, POSSESSI</td>\n",
       "      <td>235.0</td>\n",
       "      <td>DANGEROUS DRUGS</td>\n",
       "      <td>PL 2200300</td>\n",
       "      <td>M</td>\n",
       "      <td>B</td>\n",
       "      <td>49</td>\n",
       "      <td>0</td>\n",
       "      <td>45-64</td>\n",
       "      <td>M</td>\n",
       "      <td>BLACK</td>\n",
       "      <td>1027430</td>\n",
       "      <td>251104</td>\n",
       "      <td>40.855793</td>\n",
       "      <td>-73.843908</td>\n",
       "      <td>POINT (-73.843908 40.855793)</td>\n",
       "    </tr>\n",
       "    <tr>\n",
       "      <th>4</th>\n",
       "      <td>280357135</td>\n",
       "      <td>01/11/2024</td>\n",
       "      <td>109.0</td>\n",
       "      <td>ASSAULT 2,1,UNCLASSIFIED</td>\n",
       "      <td>106.0</td>\n",
       "      <td>FELONY ASSAULT</td>\n",
       "      <td>PL 1200502</td>\n",
       "      <td>F</td>\n",
       "      <td>K</td>\n",
       "      <td>81</td>\n",
       "      <td>2</td>\n",
       "      <td>25-44</td>\n",
       "      <td>F</td>\n",
       "      <td>BLACK</td>\n",
       "      <td>1002457</td>\n",
       "      <td>192292</td>\n",
       "      <td>40.694456</td>\n",
       "      <td>-73.934343</td>\n",
       "      <td>POINT (-73.934343 40.694456)</td>\n",
       "    </tr>\n",
       "    <tr>\n",
       "      <th>5</th>\n",
       "      <td>281488967</td>\n",
       "      <td>02/01/2024</td>\n",
       "      <td>157.0</td>\n",
       "      <td>RAPE 1</td>\n",
       "      <td>104.0</td>\n",
       "      <td>RAPE</td>\n",
       "      <td>PL 1303501</td>\n",
       "      <td>F</td>\n",
       "      <td>Q</td>\n",
       "      <td>113</td>\n",
       "      <td>0</td>\n",
       "      <td>25-44</td>\n",
       "      <td>M</td>\n",
       "      <td>BLACK</td>\n",
       "      <td>1046315</td>\n",
       "      <td>187088</td>\n",
       "      <td>40.679981</td>\n",
       "      <td>-73.776234</td>\n",
       "      <td>POINT (-73.7762339071953 40.6799807384666)</td>\n",
       "    </tr>\n",
       "    <tr>\n",
       "      <th>6</th>\n",
       "      <td>280769124</td>\n",
       "      <td>01/19/2024</td>\n",
       "      <td>464.0</td>\n",
       "      <td>JOSTLING</td>\n",
       "      <td>230.0</td>\n",
       "      <td>JOSTLING</td>\n",
       "      <td>PL 1652501</td>\n",
       "      <td>M</td>\n",
       "      <td>M</td>\n",
       "      <td>6</td>\n",
       "      <td>0</td>\n",
       "      <td>25-44</td>\n",
       "      <td>M</td>\n",
       "      <td>BLACK</td>\n",
       "      <td>984134</td>\n",
       "      <td>207984</td>\n",
       "      <td>40.737547</td>\n",
       "      <td>-74.000415</td>\n",
       "      <td>POINT (-74.000415 40.737547)</td>\n",
       "    </tr>\n",
       "    <tr>\n",
       "      <th>7</th>\n",
       "      <td>281338081</td>\n",
       "      <td>01/30/2024</td>\n",
       "      <td>101.0</td>\n",
       "      <td>ASSAULT 3</td>\n",
       "      <td>344.0</td>\n",
       "      <td>ASSAULT 3 &amp; RELATED OFFENSES</td>\n",
       "      <td>PL 1200001</td>\n",
       "      <td>M</td>\n",
       "      <td>M</td>\n",
       "      <td>26</td>\n",
       "      <td>0</td>\n",
       "      <td>25-44</td>\n",
       "      <td>M</td>\n",
       "      <td>BLACK</td>\n",
       "      <td>996014</td>\n",
       "      <td>236126</td>\n",
       "      <td>40.814780</td>\n",
       "      <td>-73.957499</td>\n",
       "      <td>POINT (-73.957499 40.81478)</td>\n",
       "    </tr>\n",
       "    <tr>\n",
       "      <th>8</th>\n",
       "      <td>280961365</td>\n",
       "      <td>01/23/2024</td>\n",
       "      <td>NaN</td>\n",
       "      <td>(null)</td>\n",
       "      <td>NaN</td>\n",
       "      <td>(null)</td>\n",
       "      <td>(null)</td>\n",
       "      <td>(null)</td>\n",
       "      <td>M</td>\n",
       "      <td>5</td>\n",
       "      <td>97</td>\n",
       "      <td>25-44</td>\n",
       "      <td>M</td>\n",
       "      <td>BLACK</td>\n",
       "      <td>983903</td>\n",
       "      <td>200257</td>\n",
       "      <td>40.716337</td>\n",
       "      <td>-74.001251</td>\n",
       "      <td>POINT (-74.001251 40.716337)</td>\n",
       "    </tr>\n",
       "    <tr>\n",
       "      <th>9</th>\n",
       "      <td>281426006</td>\n",
       "      <td>01/31/2024</td>\n",
       "      <td>155.0</td>\n",
       "      <td>RAPE 2</td>\n",
       "      <td>104.0</td>\n",
       "      <td>RAPE</td>\n",
       "      <td>PL 1303001</td>\n",
       "      <td>F</td>\n",
       "      <td>B</td>\n",
       "      <td>41</td>\n",
       "      <td>0</td>\n",
       "      <td>18-24</td>\n",
       "      <td>M</td>\n",
       "      <td>BLACK</td>\n",
       "      <td>1013037</td>\n",
       "      <td>236657</td>\n",
       "      <td>40.816206</td>\n",
       "      <td>-73.896001</td>\n",
       "      <td>POINT (-73.8960011932583 40.8162058439227)</td>\n",
       "    </tr>\n",
       "  </tbody>\n",
       "</table>\n",
       "</div>"
      ],
      "text/plain": [
       "   ARREST_KEY ARREST_DATE  PD_CD                         PD_DESC  KY_CD  \\\n",
       "0   280255493  01/10/2024  397.0  ROBBERY,OPEN AREA UNCLASSIFIED  105.0   \n",
       "1   279805419  01/02/2024  157.0                          RAPE 1  104.0   \n",
       "2   279895750  01/03/2024  101.0                       ASSAULT 3  344.0   \n",
       "3   280809090  01/19/2024  511.0  CONTROLLED SUBSTANCE, POSSESSI  235.0   \n",
       "4   280357135  01/11/2024  109.0        ASSAULT 2,1,UNCLASSIFIED  106.0   \n",
       "5   281488967  02/01/2024  157.0                          RAPE 1  104.0   \n",
       "6   280769124  01/19/2024  464.0                        JOSTLING  230.0   \n",
       "7   281338081  01/30/2024  101.0                       ASSAULT 3  344.0   \n",
       "8   280961365  01/23/2024    NaN                          (null)    NaN   \n",
       "9   281426006  01/31/2024  155.0                          RAPE 2  104.0   \n",
       "\n",
       "                      OFNS_DESC    LAW_CODE LAW_CAT_CD ARREST_BORO  \\\n",
       "0                       ROBBERY  PL 1601001          F           M   \n",
       "1                          RAPE  PL 1303501          F           K   \n",
       "2  ASSAULT 3 & RELATED OFFENSES  PL 1200001          M           Q   \n",
       "3               DANGEROUS DRUGS  PL 2200300          M           B   \n",
       "4                FELONY ASSAULT  PL 1200502          F           K   \n",
       "5                          RAPE  PL 1303501          F           Q   \n",
       "6                      JOSTLING  PL 1652501          M           M   \n",
       "7  ASSAULT 3 & RELATED OFFENSES  PL 1200001          M           M   \n",
       "8                        (null)      (null)     (null)           M   \n",
       "9                          RAPE  PL 1303001          F           B   \n",
       "\n",
       "   ARREST_PRECINCT  JURISDICTION_CODE AGE_GROUP PERP_SEX       PERP_RACE  \\\n",
       "0               26                  0       <18        M           BLACK   \n",
       "1               77                  0     25-44        M  WHITE HISPANIC   \n",
       "2              106                  0       65+        F           WHITE   \n",
       "3               49                  0     45-64        M           BLACK   \n",
       "4               81                  2     25-44        F           BLACK   \n",
       "5              113                  0     25-44        M           BLACK   \n",
       "6                6                  0     25-44        M           BLACK   \n",
       "7               26                  0     25-44        M           BLACK   \n",
       "8                5                 97     25-44        M           BLACK   \n",
       "9               41                  0     18-24        M           BLACK   \n",
       "\n",
       "   X_COORD_CD  Y_COORD_CD   Latitude  Longitude  \\\n",
       "0      996342      236149  40.814845 -73.956312   \n",
       "1     1003509      185018  40.674496 -73.930571   \n",
       "2     1026836      180689  40.662526 -73.846499   \n",
       "3     1027430      251104  40.855793 -73.843908   \n",
       "4     1002457      192292  40.694456 -73.934343   \n",
       "5     1046315      187088  40.679981 -73.776234   \n",
       "6      984134      207984  40.737547 -74.000415   \n",
       "7      996014      236126  40.814780 -73.957499   \n",
       "8      983903      200257  40.716337 -74.001251   \n",
       "9     1013037      236657  40.816206 -73.896001   \n",
       "\n",
       "                     New Georeferenced Column  \n",
       "0                POINT (-73.956312 40.814845)  \n",
       "1  POINT (-73.9305713255961 40.6744956865259)  \n",
       "2                POINT (-73.846499 40.662526)  \n",
       "3                POINT (-73.843908 40.855793)  \n",
       "4                POINT (-73.934343 40.694456)  \n",
       "5  POINT (-73.7762339071953 40.6799807384666)  \n",
       "6                POINT (-74.000415 40.737547)  \n",
       "7                 POINT (-73.957499 40.81478)  \n",
       "8                POINT (-74.001251 40.716337)  \n",
       "9  POINT (-73.8960011932583 40.8162058439227)  "
      ]
     },
     "execution_count": 50,
     "metadata": {},
     "output_type": "execute_result"
    }
   ],
   "source": [
    "#display first rows of data\n",
    "df.head(10)"
   ]
  },
  {
   "cell_type": "code",
   "execution_count": 51,
   "id": "7a2c711e",
   "metadata": {},
   "outputs": [
    {
     "data": {
      "text/plain": [
       "(63621, 19)"
      ]
     },
     "execution_count": 51,
     "metadata": {},
     "output_type": "execute_result"
    }
   ],
   "source": [
    "#Get the numbers of rows and columns\n",
    "df.shape"
   ]
  },
  {
   "cell_type": "code",
   "execution_count": 52,
   "id": "0174822c",
   "metadata": {},
   "outputs": [
    {
     "data": {
      "text/plain": [
       "Index(['ARREST_KEY', 'ARREST_DATE', 'PD_CD', 'PD_DESC', 'KY_CD', 'OFNS_DESC',\n",
       "       'LAW_CODE', 'LAW_CAT_CD', 'ARREST_BORO', 'ARREST_PRECINCT',\n",
       "       'JURISDICTION_CODE', 'AGE_GROUP', 'PERP_SEX', 'PERP_RACE', 'X_COORD_CD',\n",
       "       'Y_COORD_CD', 'Latitude', 'Longitude', 'New Georeferenced Column'],\n",
       "      dtype='object')"
      ]
     },
     "execution_count": 52,
     "metadata": {},
     "output_type": "execute_result"
    }
   ],
   "source": [
    "#Display column names\n",
    "df.columns"
   ]
  },
  {
   "cell_type": "code",
   "execution_count": 53,
   "id": "5a5a09c7",
   "metadata": {},
   "outputs": [],
   "source": [
    "#Create a seperate data fram with only wanted info\n",
    "df2 = df[['ARREST_KEY', 'ARREST_DATE','PD_DESC', 'OFNS_DESC', 'LAW_CAT_CD', 'ARREST_BORO', 'AGE_GROUP', 'PERP_SEX', 'PERP_RACE']]"
   ]
  },
  {
   "cell_type": "code",
   "execution_count": 54,
   "id": "28b73cfe",
   "metadata": {},
   "outputs": [
    {
     "data": {
      "text/plain": [
       "Index(['ARREST_KEY', 'ARREST_DATE', 'PD_DESC', 'OFNS_DESC', 'LAW_CAT_CD',\n",
       "       'ARREST_BORO', 'AGE_GROUP', 'PERP_SEX', 'PERP_RACE'],\n",
       "      dtype='object')"
      ]
     },
     "execution_count": 54,
     "metadata": {},
     "output_type": "execute_result"
    }
   ],
   "source": [
    "#See all column names in new data frame\n",
    "df2.columns"
   ]
  },
  {
   "cell_type": "code",
   "execution_count": 55,
   "id": "df97b51e",
   "metadata": {},
   "outputs": [
    {
     "name": "stderr",
     "output_type": "stream",
     "text": [
      "C:\\Users\\JEchevarria\\AppData\\Local\\Temp\\ipykernel_11100\\3076968196.py:2: SettingWithCopyWarning: \n",
      "A value is trying to be set on a copy of a slice from a DataFrame\n",
      "\n",
      "See the caveats in the documentation: https://pandas.pydata.org/pandas-docs/stable/user_guide/indexing.html#returning-a-view-versus-a-copy\n",
      "  df2.rename (columns={'PD_DESC': 'INTERNAL_DESCRIPTION', 'OFNS_DESC': 'OFFENSE', 'LAW_CAT_CD': 'OFFENSE_LEVEL'}, inplace=True)\n"
     ]
    }
   ],
   "source": [
    "#Rename column names for easier identification based on data dictionary\n",
    "df2.rename (columns={'PD_DESC': 'INTERNAL_DESCRIPTION', 'OFNS_DESC': 'OFFENSE', 'LAW_CAT_CD': 'OFFENSE_LEVEL'}, inplace=True)"
   ]
  },
  {
   "cell_type": "code",
   "execution_count": 56,
   "id": "89008941",
   "metadata": {},
   "outputs": [
    {
     "data": {
      "text/html": [
       "<div>\n",
       "<style scoped>\n",
       "    .dataframe tbody tr th:only-of-type {\n",
       "        vertical-align: middle;\n",
       "    }\n",
       "\n",
       "    .dataframe tbody tr th {\n",
       "        vertical-align: top;\n",
       "    }\n",
       "\n",
       "    .dataframe thead th {\n",
       "        text-align: right;\n",
       "    }\n",
       "</style>\n",
       "<table border=\"1\" class=\"dataframe\">\n",
       "  <thead>\n",
       "    <tr style=\"text-align: right;\">\n",
       "      <th></th>\n",
       "      <th>ARREST_KEY</th>\n",
       "      <th>ARREST_DATE</th>\n",
       "      <th>INTERNAL_DESCRIPTION</th>\n",
       "      <th>OFFENSE</th>\n",
       "      <th>OFFENSE_LEVEL</th>\n",
       "      <th>ARREST_BORO</th>\n",
       "      <th>AGE_GROUP</th>\n",
       "      <th>PERP_SEX</th>\n",
       "      <th>PERP_RACE</th>\n",
       "    </tr>\n",
       "  </thead>\n",
       "  <tbody>\n",
       "    <tr>\n",
       "      <th>0</th>\n",
       "      <td>280255493</td>\n",
       "      <td>01/10/2024</td>\n",
       "      <td>ROBBERY,OPEN AREA UNCLASSIFIED</td>\n",
       "      <td>ROBBERY</td>\n",
       "      <td>F</td>\n",
       "      <td>M</td>\n",
       "      <td>&lt;18</td>\n",
       "      <td>M</td>\n",
       "      <td>BLACK</td>\n",
       "    </tr>\n",
       "    <tr>\n",
       "      <th>1</th>\n",
       "      <td>279805419</td>\n",
       "      <td>01/02/2024</td>\n",
       "      <td>RAPE 1</td>\n",
       "      <td>RAPE</td>\n",
       "      <td>F</td>\n",
       "      <td>K</td>\n",
       "      <td>25-44</td>\n",
       "      <td>M</td>\n",
       "      <td>WHITE HISPANIC</td>\n",
       "    </tr>\n",
       "    <tr>\n",
       "      <th>2</th>\n",
       "      <td>279895750</td>\n",
       "      <td>01/03/2024</td>\n",
       "      <td>ASSAULT 3</td>\n",
       "      <td>ASSAULT 3 &amp; RELATED OFFENSES</td>\n",
       "      <td>M</td>\n",
       "      <td>Q</td>\n",
       "      <td>65+</td>\n",
       "      <td>F</td>\n",
       "      <td>WHITE</td>\n",
       "    </tr>\n",
       "    <tr>\n",
       "      <th>3</th>\n",
       "      <td>280809090</td>\n",
       "      <td>01/19/2024</td>\n",
       "      <td>CONTROLLED SUBSTANCE, POSSESSI</td>\n",
       "      <td>DANGEROUS DRUGS</td>\n",
       "      <td>M</td>\n",
       "      <td>B</td>\n",
       "      <td>45-64</td>\n",
       "      <td>M</td>\n",
       "      <td>BLACK</td>\n",
       "    </tr>\n",
       "    <tr>\n",
       "      <th>4</th>\n",
       "      <td>280357135</td>\n",
       "      <td>01/11/2024</td>\n",
       "      <td>ASSAULT 2,1,UNCLASSIFIED</td>\n",
       "      <td>FELONY ASSAULT</td>\n",
       "      <td>F</td>\n",
       "      <td>K</td>\n",
       "      <td>25-44</td>\n",
       "      <td>F</td>\n",
       "      <td>BLACK</td>\n",
       "    </tr>\n",
       "  </tbody>\n",
       "</table>\n",
       "</div>"
      ],
      "text/plain": [
       "   ARREST_KEY ARREST_DATE            INTERNAL_DESCRIPTION  \\\n",
       "0   280255493  01/10/2024  ROBBERY,OPEN AREA UNCLASSIFIED   \n",
       "1   279805419  01/02/2024                          RAPE 1   \n",
       "2   279895750  01/03/2024                       ASSAULT 3   \n",
       "3   280809090  01/19/2024  CONTROLLED SUBSTANCE, POSSESSI   \n",
       "4   280357135  01/11/2024        ASSAULT 2,1,UNCLASSIFIED   \n",
       "\n",
       "                        OFFENSE OFFENSE_LEVEL ARREST_BORO AGE_GROUP PERP_SEX  \\\n",
       "0                       ROBBERY             F           M       <18        M   \n",
       "1                          RAPE             F           K     25-44        M   \n",
       "2  ASSAULT 3 & RELATED OFFENSES             M           Q       65+        F   \n",
       "3               DANGEROUS DRUGS             M           B     45-64        M   \n",
       "4                FELONY ASSAULT             F           K     25-44        F   \n",
       "\n",
       "        PERP_RACE  \n",
       "0           BLACK  \n",
       "1  WHITE HISPANIC  \n",
       "2           WHITE  \n",
       "3           BLACK  \n",
       "4           BLACK  "
      ]
     },
     "execution_count": 56,
     "metadata": {},
     "output_type": "execute_result"
    }
   ],
   "source": [
    "#Visualize first 5 rows of new data frame\n",
    "df2.head()"
   ]
  },
  {
   "cell_type": "code",
   "execution_count": 57,
   "id": "bcaa01d8",
   "metadata": {},
   "outputs": [
    {
     "data": {
      "text/plain": [
       "ARREST_BORO\n",
       "K    17402\n",
       "M    15324\n",
       "B    14221\n",
       "Q    13782\n",
       "S     2892\n",
       "dtype: int64"
      ]
     },
     "execution_count": 57,
     "metadata": {},
     "output_type": "execute_result"
    }
   ],
   "source": [
    "#Compare arrest statistics across different boroughs\n",
    "df2.groupby('ARREST_BORO').size().sort_values(ascending=False)"
   ]
  },
  {
   "cell_type": "code",
   "execution_count": 58,
   "id": "927ea1fc",
   "metadata": {},
   "outputs": [
    {
     "data": {
      "text/html": [
       "<div>\n",
       "<style scoped>\n",
       "    .dataframe tbody tr th:only-of-type {\n",
       "        vertical-align: middle;\n",
       "    }\n",
       "\n",
       "    .dataframe tbody tr th {\n",
       "        vertical-align: top;\n",
       "    }\n",
       "\n",
       "    .dataframe thead tr th {\n",
       "        text-align: left;\n",
       "    }\n",
       "\n",
       "    .dataframe thead tr:last-of-type th {\n",
       "        text-align: right;\n",
       "    }\n",
       "</style>\n",
       "<table border=\"1\" class=\"dataframe\">\n",
       "  <thead>\n",
       "    <tr>\n",
       "      <th></th>\n",
       "      <th colspan=\"8\" halign=\"left\">ARREST_KEY</th>\n",
       "    </tr>\n",
       "    <tr>\n",
       "      <th></th>\n",
       "      <th>count</th>\n",
       "      <th>mean</th>\n",
       "      <th>std</th>\n",
       "      <th>min</th>\n",
       "      <th>25%</th>\n",
       "      <th>50%</th>\n",
       "      <th>75%</th>\n",
       "      <th>max</th>\n",
       "    </tr>\n",
       "    <tr>\n",
       "      <th>ARREST_BORO</th>\n",
       "      <th></th>\n",
       "      <th></th>\n",
       "      <th></th>\n",
       "      <th></th>\n",
       "      <th></th>\n",
       "      <th></th>\n",
       "      <th></th>\n",
       "      <th></th>\n",
       "    </tr>\n",
       "  </thead>\n",
       "  <tbody>\n",
       "    <tr>\n",
       "      <th>B</th>\n",
       "      <td>14221.0</td>\n",
       "      <td>2.821932e+08</td>\n",
       "      <td>1.392886e+06</td>\n",
       "      <td>279763792.0</td>\n",
       "      <td>2.809814e+08</td>\n",
       "      <td>282199414.0</td>\n",
       "      <td>2.834138e+08</td>\n",
       "      <td>284590033.0</td>\n",
       "    </tr>\n",
       "    <tr>\n",
       "      <th>K</th>\n",
       "      <td>17402.0</td>\n",
       "      <td>2.822348e+08</td>\n",
       "      <td>1.389018e+06</td>\n",
       "      <td>279763507.0</td>\n",
       "      <td>2.810419e+08</td>\n",
       "      <td>282271000.5</td>\n",
       "      <td>2.834341e+08</td>\n",
       "      <td>284625233.0</td>\n",
       "    </tr>\n",
       "    <tr>\n",
       "      <th>M</th>\n",
       "      <td>15324.0</td>\n",
       "      <td>2.822170e+08</td>\n",
       "      <td>1.394416e+06</td>\n",
       "      <td>279763800.0</td>\n",
       "      <td>2.810212e+08</td>\n",
       "      <td>282227283.0</td>\n",
       "      <td>2.834383e+08</td>\n",
       "      <td>284589455.0</td>\n",
       "    </tr>\n",
       "    <tr>\n",
       "      <th>Q</th>\n",
       "      <td>13782.0</td>\n",
       "      <td>2.822314e+08</td>\n",
       "      <td>1.371803e+06</td>\n",
       "      <td>279764518.0</td>\n",
       "      <td>2.810611e+08</td>\n",
       "      <td>282248622.5</td>\n",
       "      <td>2.834243e+08</td>\n",
       "      <td>284593425.0</td>\n",
       "    </tr>\n",
       "    <tr>\n",
       "      <th>S</th>\n",
       "      <td>2892.0</td>\n",
       "      <td>2.822303e+08</td>\n",
       "      <td>1.395440e+06</td>\n",
       "      <td>279766989.0</td>\n",
       "      <td>2.809943e+08</td>\n",
       "      <td>282258378.5</td>\n",
       "      <td>2.834367e+08</td>\n",
       "      <td>284586394.0</td>\n",
       "    </tr>\n",
       "  </tbody>\n",
       "</table>\n",
       "</div>"
      ],
      "text/plain": [
       "            ARREST_KEY                                                         \\\n",
       "                 count          mean           std          min           25%   \n",
       "ARREST_BORO                                                                     \n",
       "B              14221.0  2.821932e+08  1.392886e+06  279763792.0  2.809814e+08   \n",
       "K              17402.0  2.822348e+08  1.389018e+06  279763507.0  2.810419e+08   \n",
       "M              15324.0  2.822170e+08  1.394416e+06  279763800.0  2.810212e+08   \n",
       "Q              13782.0  2.822314e+08  1.371803e+06  279764518.0  2.810611e+08   \n",
       "S               2892.0  2.822303e+08  1.395440e+06  279766989.0  2.809943e+08   \n",
       "\n",
       "                                                     \n",
       "                     50%           75%          max  \n",
       "ARREST_BORO                                          \n",
       "B            282199414.0  2.834138e+08  284590033.0  \n",
       "K            282271000.5  2.834341e+08  284625233.0  \n",
       "M            282227283.0  2.834383e+08  284589455.0  \n",
       "Q            282248622.5  2.834243e+08  284593425.0  \n",
       "S            282258378.5  2.834367e+08  284586394.0  "
      ]
     },
     "execution_count": 58,
     "metadata": {},
     "output_type": "execute_result"
    }
   ],
   "source": [
    "#Statistics for crimes based on borrough\n",
    "df2.groupby('ARREST_BORO').describe()"
   ]
  },
  {
   "cell_type": "code",
   "execution_count": 59,
   "id": "8f72bef8",
   "metadata": {},
   "outputs": [
    {
     "data": {
      "text/plain": [
       "PERP_SEX\n",
       "M    52432\n",
       "F    11189\n",
       "dtype: int64"
      ]
     },
     "execution_count": 59,
     "metadata": {},
     "output_type": "execute_result"
    }
   ],
   "source": [
    "#Compare arrest statistics across different genders\n",
    "df2.groupby('PERP_SEX').size().sort_values(ascending=False)"
   ]
  },
  {
   "cell_type": "code",
   "execution_count": 60,
   "id": "3f3cac0c",
   "metadata": {},
   "outputs": [],
   "source": [
    "#Filter data for female perps\n",
    "female_perps = df2[df2['PERP_SEX'] == 'F']"
   ]
  },
  {
   "cell_type": "code",
   "execution_count": 61,
   "id": "1eb1a30b",
   "metadata": {},
   "outputs": [
    {
     "data": {
      "text/plain": [
       "INTERNAL_DESCRIPTION\n",
       "ASSAULT 3                                    1969\n",
       "LARCENY,PETIT FROM OPEN AREAS,               1586\n",
       "ASSAULT 2,1,UNCLASSIFIED                     1173\n",
       "LARCENY,GRAND FROM OPEN AREAS, UNATTENDED     515\n",
       "PUBLIC ADMINISTRATION,UNCLASSI                434\n",
       "                                             ... \n",
       "IMPAIRED DRIVING,DRUG                           1\n",
       "ACCOSTING,FRAUDULENT                            1\n",
       "INCOMPETENT PERSON,KNOWINGLY ENDANGERING        1\n",
       "OBSCENITY 1                                     1\n",
       "STOLEN PROPERTY 2,POSSESSION B                  1\n",
       "Length: 140, dtype: int64"
      ]
     },
     "execution_count": 61,
     "metadata": {},
     "output_type": "execute_result"
    }
   ],
   "source": [
    "#Group data by offense description\n",
    "female_perps.groupby('INTERNAL_DESCRIPTION').size().sort_values(ascending=False)"
   ]
  },
  {
   "cell_type": "code",
   "execution_count": 62,
   "id": "da4787bb",
   "metadata": {},
   "outputs": [
    {
     "data": {
      "text/plain": [
       "(11189, 9)"
      ]
     },
     "execution_count": 62,
     "metadata": {},
     "output_type": "execute_result"
    }
   ],
   "source": [
    "#Identify how many rows of female only crimes\n",
    "female_perps.shape"
   ]
  },
  {
   "cell_type": "code",
   "execution_count": 63,
   "id": "ba2f8242",
   "metadata": {},
   "outputs": [],
   "source": [
    "#Calculate occurence of each offense description\n",
    "female_perps_by_offense = female_perps['INTERNAL_DESCRIPTION'].value_counts()"
   ]
  },
  {
   "cell_type": "code",
   "execution_count": 64,
   "id": "be622002",
   "metadata": {},
   "outputs": [],
   "source": [
    "#Find the offense with the highest count of female perps\n",
    "highest_female_crime = female_perps_by_offense.idxmax()\n",
    "highest_female_count = female_perps_by_offense.max()"
   ]
  },
  {
   "cell_type": "code",
   "execution_count": 65,
   "id": "db836cca",
   "metadata": {},
   "outputs": [
    {
     "name": "stdout",
     "output_type": "stream",
     "text": [
      "The crime with the highest number female perps is 'ASSAULT 3' with 1969 female perps\n"
     ]
    }
   ],
   "source": [
    "print(f\"The crime with the highest number female perps is '{highest_female_crime}' with {highest_female_count} female perps\")"
   ]
  },
  {
   "cell_type": "code",
   "execution_count": 66,
   "id": "842926a4",
   "metadata": {},
   "outputs": [],
   "source": [
    "#Repeat steps to find male only crimes \n",
    "male_perps = df2[df2['PERP_SEX'] == 'M']"
   ]
  },
  {
   "cell_type": "code",
   "execution_count": 67,
   "id": "cce5af5f",
   "metadata": {},
   "outputs": [
    {
     "data": {
      "text/plain": [
       "INTERNAL_DESCRIPTION\n",
       "LARCENY,PETIT FROM OPEN AREAS,                            4940\n",
       "ASSAULT 3                                                 4628\n",
       "TRAFFIC,UNCLASSIFIED MISDEMEAN                            3404\n",
       "ROBBERY,OPEN AREA UNCLASSIFIED                            2602\n",
       "ASSAULT 2,1,UNCLASSIFIED                                  2420\n",
       "                                                          ... \n",
       "EXPOSURE OF A PERSON                                         1\n",
       "SOLICITATION 4, CRIMINAL                                     1\n",
       "END WELFARE VULNERABLE ELDERLY PERSON                        1\n",
       "DRUG, INJECTION OF                                           1\n",
       "LARCENY,GRAND FROM BUILDING (NON-RESIDENCE) UNATTENDED       1\n",
       "Length: 214, dtype: int64"
      ]
     },
     "execution_count": 67,
     "metadata": {},
     "output_type": "execute_result"
    }
   ],
   "source": [
    "#Group data by offense description\n",
    "male_perps.groupby('INTERNAL_DESCRIPTION').size().sort_values(ascending=False)"
   ]
  },
  {
   "cell_type": "code",
   "execution_count": 68,
   "id": "e73a35f9",
   "metadata": {},
   "outputs": [
    {
     "data": {
      "text/plain": [
       "(52432, 9)"
      ]
     },
     "execution_count": 68,
     "metadata": {},
     "output_type": "execute_result"
    }
   ],
   "source": [
    "#Identify how many rows of female only crimes\n",
    "male_perps.shape"
   ]
  },
  {
   "cell_type": "code",
   "execution_count": 69,
   "id": "a52eaaf3",
   "metadata": {},
   "outputs": [],
   "source": [
    "#Calculate occurence of each offense description\n",
    "male_perps_by_offense = male_perps['INTERNAL_DESCRIPTION'].value_counts()"
   ]
  },
  {
   "cell_type": "code",
   "execution_count": 70,
   "id": "a73ab69b",
   "metadata": {},
   "outputs": [],
   "source": [
    "#Find the offense with the highest count of female perps\n",
    "highest_male_crime = male_perps_by_offense.idxmax()\n",
    "highest_male_count = male_perps_by_offense.max()"
   ]
  },
  {
   "cell_type": "code",
   "execution_count": 71,
   "id": "03ae1c3d",
   "metadata": {},
   "outputs": [
    {
     "name": "stdout",
     "output_type": "stream",
     "text": [
      "The crime with the highest number male perps is 'LARCENY,PETIT FROM OPEN AREAS,' with 4940 male perps\n"
     ]
    }
   ],
   "source": [
    "print(f\"The crime with the highest number male perps is '{highest_male_crime}' with {highest_male_count} male perps\")"
   ]
  },
  {
   "cell_type": "code",
   "execution_count": 72,
   "id": "d137f1e5",
   "metadata": {},
   "outputs": [
    {
     "data": {
      "image/png": "[encoded data removed]",
      "text/plain": [
       "<Figure size 800x600 with 1 Axes>"
      ]
     },
     "metadata": {},
     "output_type": "display_data"
    }
   ],
   "source": [
    "#Visualization of crime count by borough\n",
    "plt.figure(figsize=(8, 6))\n",
    "sns.countplot(data=df, x='ARREST_BORO')\n",
    "plt.title('Arrests Count by Borough')\n",
    "plt.xlabel('Borough')\n",
    "plt.ylabel('Count')\n",
    "plt.show()"
   ]
  },
  {
   "cell_type": "code",
   "execution_count": 73,
   "id": "10c13049",
   "metadata": {},
   "outputs": [
    {
     "data": {
      "image/png": "[encoded data removed]",
      "text/plain": [
       "<Figure size 800x600 with 1 Axes>"
      ]
     },
     "metadata": {},
     "output_type": "display_data"
    }
   ],
   "source": [
    "#Visualization of crime count by gender\n",
    "plt.figure(figsize=(8, 6))\n",
    "sns.countplot(data=df2, x='PERP_SEX')\n",
    "plt.title('Arrests Count by Gender')\n",
    "plt.xlabel('Gender')\n",
    "plt.ylabel('Count')\n",
    "plt.show()"
   ]
  },
  {
   "cell_type": "code",
   "execution_count": null,
   "id": "9345e72a",
   "metadata": {},
   "outputs": [],
   "source": [
    "#Analysis shows variations in arrests accross different boroughs with Brooklyn having the highest number and Staten Island having the lowest. It also showed notable differences in arrest counts between females and males. \n",
    "#Females highest incidence of crime (assault 3) are violent crimes while males highest indience of crime (petit larceny) is considered non-violent.\n",
    "#It's important to note the potential biases within the criminal justice system that may influence these statistics in addition to the overall population/numbers of each borough and gender group.These stats may also be influenced by societal and economic factors.\n",
    "#As a female, I inadvertently exhibited bias towards crimes committed by females due to relatability, finding it easier to emapthy or relate to the experience of females which I believe caused an unconcious heightened awareness.\n",
    "#Unconcious gender bias and stereotypes can influence an analysis. For example, I immediately assumed that the highest crime for males would be a violent crime and females a non-violent crime simply because of my own personal relatability to females as well as societal stereotypes that are placed on both genders. However, the ananlysis showed this was incorrect. This taught me how important it is to look at the data objectively to ensure an unbiased interpretation of the data."
   ]
  }
 ],
 "metadata": {
  "kernelspec": {
   "display_name": "Python 3 (ipykernel)",
   "language": "python",
   "name": "python3"
  },
  "language_info": {
   "codemirror_mode": {
    "name": "ipython",
    "version": 3
   },
   "file_extension": ".py",
   "mimetype": "text/x-python",
   "name": "python",
   "nbconvert_exporter": "python",
   "pygments_lexer": "ipython3",
   "version": "3.11.5"
  }
 },
 "nbformat": 4,
 "nbformat_minor": 5
}
